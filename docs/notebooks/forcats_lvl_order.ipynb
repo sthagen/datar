{
    "cells": [
        {
            "cell_type": "code",
            "execution_count": 1,
            "metadata": {},
            "outputs": [
                {
                    "data": {
                        "text/html": [
                            "<div style=\"text-align: right; text-style: italic\">Try this notebook on <a target=\"_blank\" href=\"https://mybinder.org/v2/gh/pwwang/datar/dev?filepath=docs%2Fnotebooks%2Fforcat_lvl_order.ipynb\">binder</a>.</div>"
                        ],
                        "text/plain": [
                            "<IPython.core.display.HTML object>"
                        ]
                    },
                    "metadata": {},
                    "output_type": "display_data"
                },
                {
                    "data": {
                        "text/markdown": [
                            "### <div style=\"background-color: #EEE; padding: 5px 0 8px 0\">★ fct_relevel</div>"
                        ],
                        "text/plain": [
                            "<IPython.core.display.Markdown object>"
                        ]
                    },
                    "metadata": {},
                    "output_type": "display_data"
                },
                {
                    "data": {
                        "text/markdown": [
                            "##### Reorder factor levels by hand\n",
                            "\n",
                            "##### Args:\n",
                            "&emsp;&emsp;`_f`: A factor (categoriccal), or a string vector  \n",
                            "&emsp;&emsp;`*lvls`: Either a function (then `len(lvls)` should equal to `1`) or  \n",
                            "&emsp;&emsp;&emsp;&emsp;the new levels.  \n",
                            "&emsp;&emsp;&emsp;&emsp;A function will be called with the current levels as input, and the  \n",
                            "&emsp;&emsp;&emsp;&emsp;return value (which must be a character vector) will be used to  \n",
                            "&emsp;&emsp;&emsp;&emsp;relevel the factor.  \n",
                            "&emsp;&emsp;&emsp;&emsp;Any levels not mentioned will be left in their existing order,  \n",
                            "&emsp;&emsp;&emsp;&emsp;by default after the explicitly mentioned levels.  \n",
                            "\n",
                            "&emsp;&emsp;`after`: Where should the new values be placed?  \n",
                            "\n",
                            "##### Returns:\n",
                            "&emsp;&emsp;The factor with levels replaced  \n"
                        ],
                        "text/plain": [
                            "<IPython.core.display.Markdown object>"
                        ]
                    },
                    "metadata": {},
                    "output_type": "display_data"
                },
                {
                    "data": {
                        "text/markdown": [
                            "### <div style=\"background-color: #EEE; padding: 5px 0 8px 0\">★ fct_inorder</div>"
                        ],
                        "text/plain": [
                            "<IPython.core.display.Markdown object>"
                        ]
                    },
                    "metadata": {},
                    "output_type": "display_data"
                },
                {
                    "data": {
                        "text/markdown": [
                            "##### Reorder factor levels by first appearance\n",
                            "\n",
                            "##### Args:\n",
                            "&emsp;&emsp;`_f`: A factor  \n",
                            "&emsp;&emsp;`ordered`: A logical which determines the \"ordered\" status of the  \n",
                            "&emsp;&emsp;&emsp;&emsp;output factor.  \n",
                            "\n",
                            "##### Returns:\n",
                            "&emsp;&emsp;The factor with levels reordered  \n"
                        ],
                        "text/plain": [
                            "<IPython.core.display.Markdown object>"
                        ]
                    },
                    "metadata": {},
                    "output_type": "display_data"
                },
                {
                    "data": {
                        "text/markdown": [
                            "### <div style=\"background-color: #EEE; padding: 5px 0 8px 0\">★ fct_infreq</div>"
                        ],
                        "text/plain": [
                            "<IPython.core.display.Markdown object>"
                        ]
                    },
                    "metadata": {},
                    "output_type": "display_data"
                },
                {
                    "data": {
                        "text/markdown": [
                            "##### Reorder factor levels by frequency\n",
                            "\n",
                            "##### Args:\n",
                            "&emsp;&emsp;`_f`: A factor  \n",
                            "&emsp;&emsp;`ordered`: A logical which determines the \"ordered\" status of the  \n",
                            "&emsp;&emsp;&emsp;&emsp;output factor.  \n",
                            "\n",
                            "##### Returns:\n",
                            "&emsp;&emsp;The factor with levels reordered  \n"
                        ],
                        "text/plain": [
                            "<IPython.core.display.Markdown object>"
                        ]
                    },
                    "metadata": {},
                    "output_type": "display_data"
                },
                {
                    "data": {
                        "text/markdown": [
                            "### <div style=\"background-color: #EEE; padding: 5px 0 8px 0\">★ fct_inseq</div>"
                        ],
                        "text/plain": [
                            "<IPython.core.display.Markdown object>"
                        ]
                    },
                    "metadata": {},
                    "output_type": "display_data"
                },
                {
                    "data": {
                        "text/markdown": [
                            "##### Reorder factor levels by numeric order\n",
                            "\n",
                            "##### Args:\n",
                            "&emsp;&emsp;`_f`: A factor  \n",
                            "&emsp;&emsp;`ordered`: A logical which determines the \"ordered\" status of the  \n",
                            "&emsp;&emsp;&emsp;&emsp;output factor.  \n",
                            "\n",
                            "##### Returns:\n",
                            "&emsp;&emsp;The factor with levels reordered  \n"
                        ],
                        "text/plain": [
                            "<IPython.core.display.Markdown object>"
                        ]
                    },
                    "metadata": {},
                    "output_type": "display_data"
                },
                {
                    "data": {
                        "text/markdown": [
                            "### <div style=\"background-color: #EEE; padding: 5px 0 8px 0\">★ fct_reorder</div>"
                        ],
                        "text/plain": [
                            "<IPython.core.display.Markdown object>"
                        ]
                    },
                    "metadata": {},
                    "output_type": "display_data"
                },
                {
                    "data": {
                        "text/markdown": [
                            "##### Reorder factor levels by sorting along another variable\n",
                            "\n",
                            "##### Args:\n",
                            "&emsp;&emsp;`_f`: A factor  \n",
                            "&emsp;&emsp;`_x`: The levels of `f` are reordered so that the values  \n",
                            "&emsp;&emsp;&emsp;&emsp;of `_fun(_x)` are in ascending order.  \n",
                            "\n",
                            "&emsp;&emsp;`_fun`: The summary function, have to be passed by keyword  \n",
                            "\n",
                            "&emsp;&emsp;*args, **kwargs: Other arguments for `_fun`.  \n",
                            "&emsp;&emsp;`_desc`: Order in descending order?  \n",
                            "\n",
                            "##### Returns:\n",
                            "&emsp;&emsp;The factor with levels reordered  \n"
                        ],
                        "text/plain": [
                            "<IPython.core.display.Markdown object>"
                        ]
                    },
                    "metadata": {},
                    "output_type": "display_data"
                },
                {
                    "data": {
                        "text/markdown": [
                            "### <div style=\"background-color: #EEE; padding: 5px 0 8px 0\">★ fct_reorder2</div>"
                        ],
                        "text/plain": [
                            "<IPython.core.display.Markdown object>"
                        ]
                    },
                    "metadata": {},
                    "output_type": "display_data"
                },
                {
                    "data": {
                        "text/markdown": [
                            "##### Reorder factor levels by sorting along another variable\n",
                            "\n",
                            "##### Args:\n",
                            "&emsp;&emsp;`_f`: A factor  \n",
                            "&emsp;&emsp;`_x`: and  \n",
                            "&emsp;&emsp;`_y`: The levels of `f` are reordered so that the values  \n",
                            "&emsp;&emsp;&emsp;&emsp;of `_fun(_x, _y)` are in ascending order.  \n",
                            "\n",
                            "&emsp;&emsp;`_fun`: The summary function, have to be passed by keyword  \n",
                            "\n",
                            "&emsp;&emsp;*args, **kwargs: Other arguments for `_fun`.  \n",
                            "&emsp;&emsp;`_desc`: Order in descending order?  \n",
                            "\n",
                            "##### Returns:\n",
                            "&emsp;&emsp;The factor with levels reordered  \n"
                        ],
                        "text/plain": [
                            "<IPython.core.display.Markdown object>"
                        ]
                    },
                    "metadata": {},
                    "output_type": "display_data"
                },
                {
                    "data": {
                        "text/markdown": [
                            "### <div style=\"background-color: #EEE; padding: 5px 0 8px 0\">★ fct_rev</div>"
                        ],
                        "text/plain": [
                            "<IPython.core.display.Markdown object>"
                        ]
                    },
                    "metadata": {},
                    "output_type": "display_data"
                },
                {
                    "data": {
                        "text/markdown": [
                            "##### Reverse order of factor levels\n",
                            "\n",
                            "##### Args:\n",
                            "&emsp;&emsp;`_f`: A factor  \n",
                            "\n",
                            "##### Returns:\n",
                            "&emsp;&emsp;The factor with levels reversely ordered  \n"
                        ],
                        "text/plain": [
                            "<IPython.core.display.Markdown object>"
                        ]
                    },
                    "metadata": {},
                    "output_type": "display_data"
                },
                {
                    "data": {
                        "text/markdown": [
                            "### <div style=\"background-color: #EEE; padding: 5px 0 8px 0\">★ fct_shift</div>"
                        ],
                        "text/plain": [
                            "<IPython.core.display.Markdown object>"
                        ]
                    },
                    "metadata": {},
                    "output_type": "display_data"
                },
                {
                    "data": {
                        "text/markdown": [
                            "##### Shift factor levels to left or right, wrapping around at end\n",
                            "\n",
                            "##### Args:\n",
                            "&emsp;&emsp;`f`: A factor.  \n",
                            "&emsp;&emsp;`n`: Positive values shift to the left; negative values shift to  \n",
                            "&emsp;&emsp;&emsp;&emsp;the right.  \n",
                            "\n",
                            "##### Returns:\n",
                            "&emsp;&emsp;The factor with levels shifted  \n"
                        ],
                        "text/plain": [
                            "<IPython.core.display.Markdown object>"
                        ]
                    },
                    "metadata": {},
                    "output_type": "display_data"
                },
                {
                    "data": {
                        "text/markdown": [
                            "### <div style=\"background-color: #EEE; padding: 5px 0 8px 0\">★ fct_shuffle</div>"
                        ],
                        "text/plain": [
                            "<IPython.core.display.Markdown object>"
                        ]
                    },
                    "metadata": {},
                    "output_type": "display_data"
                },
                {
                    "data": {
                        "text/markdown": [
                            "##### Randomly permute factor levels\n",
                            "\n",
                            "##### Args:\n",
                            "&emsp;&emsp;`_f`: A factor  \n",
                            "\n",
                            "##### Returns:\n",
                            "&emsp;&emsp;The factor with levels randomly permutated  \n"
                        ],
                        "text/plain": [
                            "<IPython.core.display.Markdown object>"
                        ]
                    },
                    "metadata": {},
                    "output_type": "display_data"
                },
                {
                    "data": {
                        "text/markdown": [
                            "### <div style=\"background-color: #EEE; padding: 5px 0 8px 0\">★ first2</div>"
                        ],
                        "text/plain": [
                            "<IPython.core.display.Markdown object>"
                        ]
                    },
                    "metadata": {},
                    "output_type": "display_data"
                },
                {
                    "data": {
                        "text/markdown": [
                            "##### Find the first element of `_y` ordered by `_x`\n",
                            "\n",
                            "##### Args:\n",
                            "&emsp;&emsp;`_x`: The vector used to order `_y`  \n",
                            "&emsp;&emsp;`_y`: The vector to get the first element of  \n",
                            "\n",
                            "##### Returns:\n",
                            "&emsp;&emsp;First element of `_y` ordered by `_x`  \n"
                        ],
                        "text/plain": [
                            "<IPython.core.display.Markdown object>"
                        ]
                    },
                    "metadata": {},
                    "output_type": "display_data"
                },
                {
                    "data": {
                        "text/markdown": [
                            "### <div style=\"background-color: #EEE; padding: 5px 0 8px 0\">★ last2</div>"
                        ],
                        "text/plain": [
                            "<IPython.core.display.Markdown object>"
                        ]
                    },
                    "metadata": {},
                    "output_type": "display_data"
                },
                {
                    "data": {
                        "text/markdown": [
                            "##### Find the last element of `_y` ordered by `_x`\n",
                            "\n",
                            "##### Args:\n",
                            "&emsp;&emsp;`_x`: The vector used to order `_y`  \n",
                            "&emsp;&emsp;`_y`: The vector to get the last element of  \n",
                            "\n",
                            "##### Returns:\n",
                            "&emsp;&emsp;Last element of `_y` ordered by `_x`  \n"
                        ],
                        "text/plain": [
                            "<IPython.core.display.Markdown object>"
                        ]
                    },
                    "metadata": {},
                    "output_type": "display_data"
                }
            ],
            "source": [
                "%run nb_helpers.py\n",
                "\n",
                "import plotnine as p9\n",
                "from datar.all import *\n",
                "from datar.datasets import gss_cat, iris, ChickWeight\n",
                "\n",
                "nb_header(\n",
                "    fct_relevel,\n",
                "    fct_inorder,\n",
                "    fct_infreq,\n",
                "    fct_inseq,\n",
                "    fct_reorder,\n",
                "    fct_reorder2,\n",
                "    fct_rev,\n",
                "    fct_shift,\n",
                "    fct_shuffle,\n",
                "    first2,\n",
                "    last2, \n",
                "    book=\"forcat_lvl_order\",\n",
                ")\n"
            ]
        },
        {
            "cell_type": "markdown",
            "metadata": {},
            "source": [
                "## fct_relevel"
            ]
        },
        {
            "cell_type": "code",
            "execution_count": 2,
            "metadata": {},
            "outputs": [
                {
                    "data": {
                        "text/plain": [
                            "['a', 'b', 'c', 'd']\n",
                            "Categories (4, object): ['b', 'c', 'd', 'a']"
                        ]
                    },
                    "execution_count": 2,
                    "metadata": {},
                    "output_type": "execute_result"
                }
            ],
            "source": [
                "fct = factor(c(\"a\", \"b\", \"c\", \"d\"), levels = c(\"b\", \"c\", \"d\", \"a\"))\n",
                "fct_relevel(fct)"
            ]
        },
        {
            "cell_type": "code",
            "execution_count": 3,
            "metadata": {},
            "outputs": [
                {
                    "data": {
                        "text/plain": [
                            "['a', 'b', 'c', 'd']\n",
                            "Categories (4, object): ['a', 'b', 'c', 'd']"
                        ]
                    },
                    "execution_count": 3,
                    "metadata": {},
                    "output_type": "execute_result"
                }
            ],
            "source": [
                "fct_relevel(fct, \"a\")"
            ]
        },
        {
            "cell_type": "code",
            "execution_count": 4,
            "metadata": {},
            "outputs": [
                {
                    "data": {
                        "text/plain": [
                            "['a', 'b', 'c', 'd']\n",
                            "Categories (4, object): ['b', 'a', 'c', 'd']"
                        ]
                    },
                    "execution_count": 4,
                    "metadata": {},
                    "output_type": "execute_result"
                }
            ],
            "source": [
                "fct_relevel(fct, \"b\", \"a\")"
            ]
        },
        {
            "cell_type": "code",
            "execution_count": 5,
            "metadata": {},
            "outputs": [
                {
                    "data": {
                        "text/plain": [
                            "['a', 'b', 'c', 'd']\n",
                            "Categories (4, object): ['b', 'c', 'a', 'd']"
                        ]
                    },
                    "execution_count": 5,
                    "metadata": {},
                    "output_type": "execute_result"
                }
            ],
            "source": [
                "fct_relevel(fct, \"a\", after=1)"
            ]
        },
        {
            "cell_type": "code",
            "execution_count": 6,
            "metadata": {},
            "outputs": [
                {
                    "data": {
                        "text/plain": [
                            "['a', 'b', 'c', 'd']\n",
                            "Categories (4, object): ['a', 'b', 'c', 'd']"
                        ]
                    },
                    "execution_count": 6,
                    "metadata": {},
                    "output_type": "execute_result"
                }
            ],
            "source": [
                "# use -1 instead of Inf\n",
                "fct_relevel(fct, \"a\", after = None)"
            ]
        },
        {
            "cell_type": "code",
            "execution_count": 7,
            "metadata": {},
            "outputs": [
                {
                    "data": {
                        "text/plain": [
                            "['a', 'b', 'c', 'd']\n",
                            "Categories (4, object): ['b', 'c', 'd', 'a']"
                        ]
                    },
                    "execution_count": 7,
                    "metadata": {},
                    "output_type": "execute_result"
                }
            ],
            "source": [
                "fct_relevel(fct, \"a\", after = 2)"
            ]
        },
        {
            "cell_type": "code",
            "execution_count": 8,
            "metadata": {},
            "outputs": [
                {
                    "data": {
                        "text/plain": [
                            "['a', 'b', 'c', 'd']\n",
                            "Categories (4, object): ['a', 'b', 'c', 'd']"
                        ]
                    },
                    "execution_count": 8,
                    "metadata": {},
                    "output_type": "execute_result"
                }
            ],
            "source": [
                "fct_relevel(fct, sort)"
            ]
        },
        {
            "cell_type": "code",
            "execution_count": 9,
            "metadata": {},
            "outputs": [
                {
                    "data": {
                        "text/plain": [
                            "['a', 'b', 'c', 'd']\n",
                            "Categories (4, object): ['a', 'd', 'c', 'b']"
                        ]
                    },
                    "execution_count": 9,
                    "metadata": {},
                    "output_type": "execute_result"
                }
            ],
            "source": [
                "fct_relevel(fct, sample)"
            ]
        },
        {
            "cell_type": "code",
            "execution_count": 10,
            "metadata": {},
            "outputs": [
                {
                    "data": {
                        "text/plain": [
                            "['a', 'b', 'c', 'd']\n",
                            "Categories (4, object): ['a', 'd', 'c', 'b']"
                        ]
                    },
                    "execution_count": 10,
                    "metadata": {},
                    "output_type": "execute_result"
                }
            ],
            "source": [
                "fct_relevel(fct, rev)"
            ]
        },
        {
            "cell_type": "code",
            "execution_count": 11,
            "metadata": {},
            "outputs": [
                {
                    "data": {
                        "text/plain": [
                            "{'rincome': ['$8000 to 9999',\n",
                            "  'Not applicable',\n",
                            "  '$20000 - 24999',\n",
                            "  '$25000 or more',\n",
                            "  '$7000 to 7999',\n",
                            "  '$10000 - 14999',\n",
                            "  'Refused',\n",
                            "  '$15000 - 19999',\n",
                            "  '$3000 to 3999',\n",
                            "  '$5000 to 5999',\n",
                            "  \"Don't know\",\n",
                            "  '$1000 to 2999',\n",
                            "  'Lt $1000',\n",
                            "  'No answer',\n",
                            "  '$6000 to 6999',\n",
                            "  '$4000 to 4999'],\n",
                            " 'denom': ['Southern baptist',\n",
                            "  'Baptist-dk which',\n",
                            "  'No denomination',\n",
                            "  'Not applicable',\n",
                            "  'Lutheran-mo synod',\n",
                            "  'Other',\n",
                            "  'United methodist',\n",
                            "  'Episcopal',\n",
                            "  'Other lutheran',\n",
                            "  'Afr meth ep zion',\n",
                            "  'Am bapt ch in usa',\n",
                            "  'Other methodist',\n",
                            "  'Presbyterian c in us',\n",
                            "  'Methodist-dk which',\n",
                            "  'Nat bapt conv usa',\n",
                            "  'Am lutheran',\n",
                            "  'Nat bapt conv of am',\n",
                            "  'Am baptist asso',\n",
                            "  'Evangelical luth',\n",
                            "  'Afr meth episcopal',\n",
                            "  'Lutheran-dk which',\n",
                            "  'Luth ch in america',\n",
                            "  'Presbyterian, merged',\n",
                            "  'No answer',\n",
                            "  'Wi evan luth synod',\n",
                            "  'Other baptists',\n",
                            "  'Other presbyterian',\n",
                            "  'United pres ch in us',\n",
                            "  'Presbyterian-dk wh',\n",
                            "  \"Don't know\"]}"
                        ]
                    },
                    "execution_count": 11,
                    "metadata": {},
                    "output_type": "execute_result"
                }
            ],
            "source": [
                "df = gss_cat[[\"rincome\", \"denom\"]] >> mutate(across(everything(), as_factor)) \n",
                "\n",
                "(\n",
                "    df \n",
                "        >> summarize(across(everything(), lambda col: [levels(col).tolist()]))\n",
                "        >> t()\n",
                "        >> rename_with(str)\n",
                "        >> pull(to=\"dict\", name=rownames(f))\n",
                ") "
            ]
        },
        {
            "cell_type": "code",
            "execution_count": 12,
            "metadata": {},
            "outputs": [
                {
                    "data": {
                        "text/plain": [
                            "{'rincome': ['$8000 to 9999',\n",
                            "  'Not applicable',\n",
                            "  '$20000 - 24999',\n",
                            "  '$25000 or more',\n",
                            "  '$7000 to 7999',\n",
                            "  '$10000 - 14999',\n",
                            "  'Refused',\n",
                            "  '$15000 - 19999',\n",
                            "  '$3000 to 3999',\n",
                            "  '$5000 to 5999',\n",
                            "  '$1000 to 2999',\n",
                            "  'Lt $1000',\n",
                            "  'No answer',\n",
                            "  '$6000 to 6999',\n",
                            "  '$4000 to 4999',\n",
                            "  \"Don't know\"],\n",
                            " 'denom': ['Southern baptist',\n",
                            "  'Baptist-dk which',\n",
                            "  'No denomination',\n",
                            "  'Not applicable',\n",
                            "  'Lutheran-mo synod',\n",
                            "  'Other',\n",
                            "  'United methodist',\n",
                            "  'Episcopal',\n",
                            "  'Other lutheran',\n",
                            "  'Afr meth ep zion',\n",
                            "  'Am bapt ch in usa',\n",
                            "  'Other methodist',\n",
                            "  'Presbyterian c in us',\n",
                            "  'Methodist-dk which',\n",
                            "  'Nat bapt conv usa',\n",
                            "  'Am lutheran',\n",
                            "  'Nat bapt conv of am',\n",
                            "  'Am baptist asso',\n",
                            "  'Evangelical luth',\n",
                            "  'Afr meth episcopal',\n",
                            "  'Lutheran-dk which',\n",
                            "  'Luth ch in america',\n",
                            "  'Presbyterian, merged',\n",
                            "  'No answer',\n",
                            "  'Wi evan luth synod',\n",
                            "  'Other baptists',\n",
                            "  'Other presbyterian',\n",
                            "  'United pres ch in us',\n",
                            "  'Presbyterian-dk wh',\n",
                            "  \"Don't know\"]}"
                        ]
                    },
                    "execution_count": 12,
                    "metadata": {},
                    "output_type": "execute_result"
                }
            ],
            "source": [
                "df2 = df >> mutate(across(everything(), fct_relevel, \"Don't know\", after=-1))\n",
                "(\n",
                "    df2 \n",
                "        >> summarize(across(everything(), lambda col: [levels(col).tolist()]))\n",
                "        >> t()\n",
                "        >> rename_with(str)\n",
                "        >> pull(to=\"dict\", name=rownames(f))\n",
                ") "
            ]
        },
        {
            "cell_type": "code",
            "execution_count": 13,
            "metadata": {},
            "outputs": [
                {
                    "name": "stderr",
                    "output_type": "stream",
                    "text": [
                        "[2022-09-13 16:00:32][datar][WARNING] [fct_relevel] Unknown levels in `_f`: ['e']\n"
                    ]
                },
                {
                    "data": {
                        "text/plain": [
                            "['a', 'b', 'c', 'd']\n",
                            "Categories (4, object): ['b', 'c', 'd', 'a']"
                        ]
                    },
                    "execution_count": 13,
                    "metadata": {},
                    "output_type": "execute_result"
                }
            ],
            "source": [
                "fct_relevel(fct, \"e\")"
            ]
        },
        {
            "cell_type": "markdown",
            "metadata": {},
            "source": [
                "## fct_inorder, fct_infreq, and fct_inseq"
            ]
        },
        {
            "cell_type": "code",
            "execution_count": 14,
            "metadata": {},
            "outputs": [
                {
                    "data": {
                        "text/plain": [
                            "['b', 'b', 'a', 'c', 'c', 'c']\n",
                            "Categories (3, object): ['a', 'b', 'c']"
                        ]
                    },
                    "execution_count": 14,
                    "metadata": {},
                    "output_type": "execute_result"
                }
            ],
            "source": [
                "fct = factor(c(\"b\", \"b\", \"a\", \"c\", \"c\", \"c\"))\n",
                "fct"
            ]
        },
        {
            "cell_type": "code",
            "execution_count": 15,
            "metadata": {},
            "outputs": [
                {
                    "data": {
                        "text/plain": [
                            "['b', 'b', 'a', 'c', 'c', 'c']\n",
                            "Categories (3, object): ['b', 'a', 'c']"
                        ]
                    },
                    "execution_count": 15,
                    "metadata": {},
                    "output_type": "execute_result"
                }
            ],
            "source": [
                "fct_inorder(fct)"
            ]
        },
        {
            "cell_type": "code",
            "execution_count": 16,
            "metadata": {},
            "outputs": [
                {
                    "data": {
                        "text/plain": [
                            "['b', 'b', 'a', 'c', 'c', 'c']\n",
                            "Categories (3, object): ['c', 'b', 'a']"
                        ]
                    },
                    "execution_count": 16,
                    "metadata": {},
                    "output_type": "execute_result"
                }
            ],
            "source": [
                "fct_infreq(fct)"
            ]
        },
        {
            "cell_type": "code",
            "execution_count": 17,
            "metadata": {},
            "outputs": [
                {
                    "data": {
                        "text/plain": [
                            "[1, 2, 3]\n",
                            "Categories (3, int64): [1, 2, 3]"
                        ]
                    },
                    "execution_count": 17,
                    "metadata": {},
                    "output_type": "execute_result"
                }
            ],
            "source": [
                "fct = factor([1,2,3], levels = [3,2,1])\n",
                "fct_inseq(fct)"
            ]
        },
        {
            "cell_type": "markdown",
            "metadata": {},
            "source": [
                "## fct_reorder, fct_reorder2, last2, and first2"
            ]
        },
        {
            "cell_type": "code",
            "execution_count": 18,
            "metadata": {},
            "outputs": [
                {
                    "data": {
                        "text/plain": [
                            "['blue', 'green', 'purple', 'red', 'yellow']\n",
                            "Categories (5, object): ['blue', 'red', 'purple', 'yellow', 'green']"
                        ]
                    },
                    "execution_count": 18,
                    "metadata": {},
                    "output_type": "execute_result"
                }
            ],
            "source": [
                "df = tribble(\n",
                "    f.color,  f.a, f.b,\n",
                "    \"blue\",   1,   2,\n",
                "    \"green\",  6,   2,\n",
                "    \"purple\", 3,   3,\n",
                "    \"red\",    2,   3,\n",
                "    \"yellow\", 5,   1\n",
                ") >> mutate(color=as_factor(f.color))\n",
                "\n",
                "fct_reorder(df.color, df.a, _fun=min)"
            ]
        },
        {
            "cell_type": "code",
            "execution_count": 19,
            "metadata": {},
            "outputs": [
                {
                    "data": {
                        "text/plain": [
                            "['blue', 'green', 'purple', 'red', 'yellow']\n",
                            "Categories (5, object): ['red', 'purple', 'green', 'blue', 'yellow']"
                        ]
                    },
                    "execution_count": 19,
                    "metadata": {},
                    "output_type": "execute_result"
                }
            ],
            "source": [
                "fct_reorder2(df.color, df.a, df.b)"
            ]
        },
        {
            "cell_type": "code",
            "execution_count": 20,
            "metadata": {},
            "outputs": [
                {
                    "data": {
                        "image/png": "[encoded data removed]",
                        "text/plain": [
                            "<Figure size 640x480 with 1 Axes>"
                        ]
                    },
                    "metadata": {},
                    "output_type": "display_data"
                },
                {
                    "data": {
                        "text/plain": [
                            "<ggplot: (8758056497658)>"
                        ]
                    },
                    "execution_count": 20,
                    "metadata": {},
                    "output_type": "execute_result"
                }
            ],
            "source": [
                "p9.ggplot(iris) + p9.geom_boxplot(\n",
                "    p9.aes(x=\"Species\", y=\"Sepal_Width\")\n",
                ")"
            ]
        },
        {
            "cell_type": "code",
            "execution_count": 21,
            "metadata": {},
            "outputs": [
                {
                    "data": {
                        "image/png": "[encoded data removed]",
                        "text/plain": [
                            "<Figure size 640x480 with 1 Axes>"
                        ]
                    },
                    "metadata": {},
                    "output_type": "display_data"
                },
                {
                    "data": {
                        "text/plain": [
                            "<ggplot: (8758054278413)>"
                        ]
                    },
                    "execution_count": 21,
                    "metadata": {},
                    "output_type": "execute_result"
                }
            ],
            "source": [
                "p9.ggplot(\n",
                "    iris >> mutate(Species=fct_reorder(f.Species, f.Sepal_Width))\n",
                ") + p9.geom_boxplot(\n",
                "    p9.aes(x=\"Species\", y=\"Sepal_Width\")\n",
                ")"
            ]
        },
        {
            "cell_type": "code",
            "execution_count": 22,
            "metadata": {},
            "outputs": [
                {
                    "data": {
                        "image/png": "[encoded data removed]",
                        "text/plain": [
                            "<Figure size 640x480 with 1 Axes>"
                        ]
                    },
                    "metadata": {},
                    "output_type": "display_data"
                },
                {
                    "data": {
                        "text/plain": [
                            "<ggplot: (8758054251605)>"
                        ]
                    },
                    "execution_count": 22,
                    "metadata": {},
                    "output_type": "execute_result"
                }
            ],
            "source": [
                "p9.ggplot(\n",
                "    iris >> mutate(Species=fct_reorder(f.Species, f.Sepal_Width, _desc=True))\n",
                ") + p9.geom_boxplot(\n",
                "    p9.aes(x=\"Species\", y=\"Sepal_Width\")\n",
                ")"
            ]
        },
        {
            "cell_type": "code",
            "execution_count": 23,
            "metadata": {},
            "outputs": [
                {
                    "data": {
                        "image/png": "[encoded data removed]",
                        "text/plain": [
                            "<Figure size 640x480 with 1 Axes>"
                        ]
                    },
                    "metadata": {},
                    "output_type": "display_data"
                },
                {
                    "data": {
                        "text/plain": [
                            "<ggplot: (8758054212346)>"
                        ]
                    },
                    "execution_count": 23,
                    "metadata": {},
                    "output_type": "execute_result"
                }
            ],
            "source": [
                "\n",
                "chks = (\n",
                "    ChickWeight \n",
                "    >> filter(as_integer(f.Chick) < 10)\n",
                "    >> mutate(Chick=fct_shuffle(f.Chick))\n",
                ")\n",
                "\n",
                "(\n",
                "    p9.ggplot(chks, p9.aes(\"Time\", \"weight\", colour=\"Chick\")) \n",
                "    + p9.geom_point() \n",
                "    + p9.geom_line()\n",
                ")"
            ]
        },
        {
            "cell_type": "code",
            "execution_count": 24,
            "metadata": {},
            "outputs": [
                {
                    "data": {
                        "image/png": "[encoded data removed]",
                        "text/plain": [
                            "<Figure size 640x480 with 1 Axes>"
                        ]
                    },
                    "metadata": {},
                    "output_type": "display_data"
                },
                {
                    "data": {
                        "text/plain": [
                            "<ggplot: (8758054140392)>"
                        ]
                    },
                    "execution_count": 24,
                    "metadata": {},
                    "output_type": "execute_result"
                }
            ],
            "source": [
                "(\n",
                "    p9.ggplot(\n",
                "        chks >> mutate(Chick=fct_reorder2(f.Chick, f.Time, f.weight)),\n",
                "        p9.aes(\"Time\", \"weight\", colour=\"Chick\"),\n",
                "    )\n",
                "    + p9.geom_point()\n",
                "    + p9.geom_line()\n",
                "    + p9.labs(colour=\"Chick\")\n",
                ")\n"
            ]
        },
        {
            "cell_type": "markdown",
            "metadata": {},
            "source": [
                "## fct_shuffle"
            ]
        },
        {
            "cell_type": "code",
            "execution_count": 25,
            "metadata": {},
            "outputs": [
                {
                    "data": {
                        "text/plain": [
                            "['a', 'b', 'c']\n",
                            "Categories (3, object): ['c', 'a', 'b']"
                        ]
                    },
                    "execution_count": 25,
                    "metadata": {},
                    "output_type": "execute_result"
                }
            ],
            "source": [
                "fct = factor(c(\"a\", \"b\", \"c\"))\n",
                "fct_shuffle(fct)"
            ]
        },
        {
            "cell_type": "code",
            "execution_count": 26,
            "metadata": {},
            "outputs": [
                {
                    "data": {
                        "text/plain": [
                            "['a', 'b', 'c']\n",
                            "Categories (3, object): ['c', 'b', 'a']"
                        ]
                    },
                    "execution_count": 26,
                    "metadata": {},
                    "output_type": "execute_result"
                }
            ],
            "source": [
                "fct_shuffle(fct)"
            ]
        },
        {
            "cell_type": "markdown",
            "metadata": {},
            "source": [
                "## fct_rev"
            ]
        },
        {
            "cell_type": "code",
            "execution_count": 27,
            "metadata": {},
            "outputs": [
                {
                    "data": {
                        "text/plain": [
                            "['a', 'b', 'c']\n",
                            "Categories (3, object): ['c', 'b', 'a']"
                        ]
                    },
                    "execution_count": 27,
                    "metadata": {},
                    "output_type": "execute_result"
                }
            ],
            "source": [
                "fct_rev(fct)"
            ]
        },
        {
            "cell_type": "markdown",
            "metadata": {},
            "source": [
                "## fct_shift"
            ]
        },
        {
            "cell_type": "code",
            "execution_count": 28,
            "metadata": {},
            "outputs": [
                {
                    "data": {
                        "text/plain": [
                            "['Mon', 'Tue', 'Wed']\n",
                            "Categories (7, object): ['Sun' < 'Mon' < 'Tue' < 'Wed' < 'Thu' < 'Fri' < 'Sat']"
                        ]
                    },
                    "execution_count": 28,
                    "metadata": {},
                    "output_type": "execute_result"
                }
            ],
            "source": [
                "x = factor(\n",
                "  c(\"Mon\", \"Tue\", \"Wed\"),\n",
                "  levels = c(\"Sun\", \"Mon\", \"Tue\", \"Wed\", \"Thu\", \"Fri\", \"Sat\"),\n",
                "  ordered = TRUE\n",
                ")\n",
                "x"
            ]
        },
        {
            "cell_type": "code",
            "execution_count": 29,
            "metadata": {},
            "outputs": [
                {
                    "data": {
                        "text/plain": [
                            "['Mon', 'Tue', 'Wed']\n",
                            "Categories (7, object): ['Mon' < 'Tue' < 'Wed' < 'Thu' < 'Fri' < 'Sat' < 'Sun']"
                        ]
                    },
                    "execution_count": 29,
                    "metadata": {},
                    "output_type": "execute_result"
                }
            ],
            "source": [
                "fct_shift(x)"
            ]
        },
        {
            "cell_type": "code",
            "execution_count": 30,
            "metadata": {},
            "outputs": [
                {
                    "data": {
                        "text/plain": [
                            "['Mon', 'Tue', 'Wed']\n",
                            "Categories (7, object): ['Tue' < 'Wed' < 'Thu' < 'Fri' < 'Sat' < 'Sun' < 'Mon']"
                        ]
                    },
                    "execution_count": 30,
                    "metadata": {},
                    "output_type": "execute_result"
                }
            ],
            "source": [
                "fct_shift(x, 2)"
            ]
        },
        {
            "cell_type": "code",
            "execution_count": 31,
            "metadata": {},
            "outputs": [
                {
                    "data": {
                        "text/plain": [
                            "['Mon', 'Tue', 'Wed']\n",
                            "Categories (7, object): ['Sat' < 'Sun' < 'Mon' < 'Tue' < 'Wed' < 'Thu' < 'Fri']"
                        ]
                    },
                    "execution_count": 31,
                    "metadata": {},
                    "output_type": "execute_result"
                }
            ],
            "source": [
                "fct_shift(x, -1)"
            ]
        }
    ],
    "metadata": {
        "kernelspec": {
            "display_name": "Python 3.9.5 ('base')",
            "language": "python",
            "name": "python3"
        },
        "language_info": {
            "codemirror_mode": {
                "name": "ipython",
                "version": 3
            },
            "file_extension": ".py",
            "mimetype": "text/x-python",
            "name": "python",
            "nbconvert_exporter": "python",
            "pygments_lexer": "ipython3",
            "version": "3.9.5"
        },
        "orig_nbformat": 4,
        "vscode": {
            "interpreter": {
                "hash": "9ed5c94d10bf621c6841991b7e31ffd0f3c8de8ec4167710459737a50edc58e4"
            }
        }
    },
    "nbformat": 4,
    "nbformat_minor": 2
}
