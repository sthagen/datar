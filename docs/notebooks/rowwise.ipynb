{
 "cells": [
  {
   "cell_type": "code",
   "execution_count": 1,
   "metadata": {
    "execution": {
     "iopub.execute_input": "2021-07-16T22:28:08.630104Z",
     "iopub.status.busy": "2021-07-16T22:28:08.629477Z",
     "iopub.status.idle": "2021-07-16T22:28:09.661020Z",
     "shell.execute_reply": "2021-07-16T22:28:09.658387Z"
    }
   },
   "outputs": [
    {
     "data": {
      "text/html": [
       "<div style=\"text-align: right; text-style: italic\">Try this notebook on <a target=\"_blank\" href=\"https://mybinder.org/v2/gh/pwwang/datar/dev?filepath=docs%2Fnotebooks%2Frowwise.ipynb\">binder</a>.</div>"
      ],
      "text/plain": [
       "<IPython.core.display.HTML object>"
      ]
     },
     "metadata": {},
     "output_type": "display_data"
    },
    {
     "data": {
      "text/markdown": [
       "### <div style=\"background-color: #EEE; padding: 5px 0 8px 0\">★ rowwise</div>"
      ],
      "text/plain": [
       "<IPython.core.display.Markdown object>"
      ]
     },
     "metadata": {},
     "output_type": "display_data"
    },
    {
     "data": {
      "text/markdown": [
       "##### Compute on a data frame a row-at-a-time\n",
       "\n",
       "See https://dplyr.tidyverse.org/reference/rowwise.html  \n",
       "\n",
       "##### Args:\n",
       "&emsp;&emsp;`_data`: The dataframe  \n",
       "&emsp;&emsp;`*cols`: Variables to be preserved when calling summarise().  \n",
       "&emsp;&emsp;&emsp;&emsp;This is typically a set of variables whose combination  \n",
       "&emsp;&emsp;&emsp;&emsp;uniquely identify each row.  \n",
       "\n",
       "##### Returns:\n",
       "&emsp;&emsp;A row-wise data frame  \n"
      ],
      "text/plain": [
       "<IPython.core.display.Markdown object>"
      ]
     },
     "metadata": {},
     "output_type": "display_data"
    }
   ],
   "source": [
    "# https://dplyr.tidyverse.org/reference/rowwise.html\n",
    "%run nb_helpers.py\n",
    "\n",
    "from datar.all import *\n",
    "\n",
    "nb_header(rowwise)"
   ]
  },
  {
   "cell_type": "code",
   "execution_count": 2,
   "metadata": {
    "execution": {
     "iopub.execute_input": "2021-07-16T22:28:09.684543Z",
     "iopub.status.busy": "2021-07-16T22:28:09.683910Z",
     "iopub.status.idle": "2021-07-16T22:28:09.995217Z",
     "shell.execute_reply": "2021-07-16T22:28:09.995615Z"
    }
   },
   "outputs": [
    {
     "data": {
      "text/html": [
       "<div>\n",
       "<style scoped>\n",
       "    .dataframe tbody tr th:only-of-type {\n",
       "        vertical-align: middle;\n",
       "    }\n",
       "\n",
       "    .dataframe tbody tr th {\n",
       "        vertical-align: top;\n",
       "    }\n",
       "\n",
       "    .dataframe thead th {\n",
       "        text-align: right;\n",
       "    }\n",
       "</style>\n",
       "<table border=\"1\" class=\"dataframe\">\n",
       "  <thead>\n",
       "    <tr style=\"text-align: right;\">\n",
       "      <th></th>\n",
       "      <th>x</th>\n",
       "      <th>y</th>\n",
       "      <th>z</th>\n",
       "      <th>m</th>\n",
       "    </tr>\n",
       "  </thead>\n",
       "  <tbody>\n",
       "    <tr>\n",
       "      <th style=\"font-style: italic;\" ></th>\n",
       "      <td style=\"font-style: italic;\" >&lt;float64&gt;</td>\n",
       "      <td style=\"font-style: italic;\" >&lt;float64&gt;</td>\n",
       "      <td style=\"font-style: italic;\" >&lt;float64&gt;</td>\n",
       "      <td style=\"font-style: italic;\" >&lt;float64&gt;</td>\n",
       "    </tr>\n",
       "    <tr>\n",
       "      <th>0</th>\n",
       "      <td>0.025942</td>\n",
       "      <td>0.476775</td>\n",
       "      <td>0.499526</td>\n",
       "      <td>0.334081</td>\n",
       "    </tr>\n",
       "    <tr>\n",
       "      <th>1</th>\n",
       "      <td>0.712456</td>\n",
       "      <td>0.042827</td>\n",
       "      <td>0.712920</td>\n",
       "      <td>0.489401</td>\n",
       "    </tr>\n",
       "    <tr>\n",
       "      <th>2</th>\n",
       "      <td>0.247422</td>\n",
       "      <td>0.854404</td>\n",
       "      <td>0.729917</td>\n",
       "      <td>0.610581</td>\n",
       "    </tr>\n",
       "    <tr>\n",
       "      <th>3</th>\n",
       "      <td>0.553192</td>\n",
       "      <td>0.506078</td>\n",
       "      <td>0.933888</td>\n",
       "      <td>0.664386</td>\n",
       "    </tr>\n",
       "    <tr>\n",
       "      <th>4</th>\n",
       "      <td>0.083242</td>\n",
       "      <td>0.873225</td>\n",
       "      <td>0.697593</td>\n",
       "      <td>0.551353</td>\n",
       "    </tr>\n",
       "    <tr>\n",
       "      <th>5</th>\n",
       "      <td>0.927253</td>\n",
       "      <td>0.722509</td>\n",
       "      <td>0.285979</td>\n",
       "      <td>0.645247</td>\n",
       "    </tr>\n",
       "  </tbody>\n",
       "</table>\n",
       "</div>\n",
       "<p>TibbleRowwise:  (n=6)"
      ],
      "text/plain": [
       "          x         y         z         m\n",
       "  <float64> <float64> <float64> <float64>\n",
       "0  0.025942  0.476775  0.499526  0.334081\n",
       "1  0.712456  0.042827  0.712920  0.489401\n",
       "2  0.247422  0.854404  0.729917  0.610581\n",
       "3  0.553192  0.506078  0.933888  0.664386\n",
       "4  0.083242  0.873225  0.697593  0.551353\n",
       "5  0.927253  0.722509  0.285979  0.645247\n",
       "[TibbleRowwise:  (n=6)]"
      ]
     },
     "execution_count": 2,
     "metadata": {},
     "output_type": "execute_result"
    }
   ],
   "source": [
    "df = tibble(x=runif(6), y=runif(6), z=runif(6))\n",
    "\n",
    "df >> rowwise() >> mutate(m=mean(c_across(c(f.x, f.y, f.z)))) "
   ]
  },
  {
   "cell_type": "code",
   "execution_count": 3,
   "metadata": {
    "execution": {
     "iopub.execute_input": "2021-07-16T22:28:10.067015Z",
     "iopub.status.busy": "2021-07-16T22:28:10.066388Z",
     "iopub.status.idle": "2021-07-16T22:28:10.080326Z",
     "shell.execute_reply": "2021-07-16T22:28:10.080713Z"
    }
   },
   "outputs": [
    {
     "data": {
      "text/html": [
       "<div>\n",
       "<style scoped>\n",
       "    .dataframe tbody tr th:only-of-type {\n",
       "        vertical-align: middle;\n",
       "    }\n",
       "\n",
       "    .dataframe tbody tr th {\n",
       "        vertical-align: top;\n",
       "    }\n",
       "\n",
       "    .dataframe thead th {\n",
       "        text-align: right;\n",
       "    }\n",
       "</style>\n",
       "<table border=\"1\" class=\"dataframe\">\n",
       "  <thead>\n",
       "    <tr style=\"text-align: right;\">\n",
       "      <th></th>\n",
       "      <th>x</th>\n",
       "      <th>y</th>\n",
       "      <th>z</th>\n",
       "      <th>m</th>\n",
       "    </tr>\n",
       "  </thead>\n",
       "  <tbody>\n",
       "    <tr>\n",
       "      <th style=\"font-style: italic;\" ></th>\n",
       "      <td style=\"font-style: italic;\" >&lt;float64&gt;</td>\n",
       "      <td style=\"font-style: italic;\" >&lt;float64&gt;</td>\n",
       "      <td style=\"font-style: italic;\" >&lt;float64&gt;</td>\n",
       "      <td style=\"font-style: italic;\" >&lt;float64&gt;</td>\n",
       "    </tr>\n",
       "    <tr>\n",
       "      <th>0</th>\n",
       "      <td>0.025942</td>\n",
       "      <td>0.476775</td>\n",
       "      <td>0.499526</td>\n",
       "      <td>0.334081</td>\n",
       "    </tr>\n",
       "    <tr>\n",
       "      <th>1</th>\n",
       "      <td>0.712456</td>\n",
       "      <td>0.042827</td>\n",
       "      <td>0.712920</td>\n",
       "      <td>0.489401</td>\n",
       "    </tr>\n",
       "    <tr>\n",
       "      <th>2</th>\n",
       "      <td>0.247422</td>\n",
       "      <td>0.854404</td>\n",
       "      <td>0.729917</td>\n",
       "      <td>0.610581</td>\n",
       "    </tr>\n",
       "    <tr>\n",
       "      <th>3</th>\n",
       "      <td>0.553192</td>\n",
       "      <td>0.506078</td>\n",
       "      <td>0.933888</td>\n",
       "      <td>0.664386</td>\n",
       "    </tr>\n",
       "    <tr>\n",
       "      <th>4</th>\n",
       "      <td>0.083242</td>\n",
       "      <td>0.873225</td>\n",
       "      <td>0.697593</td>\n",
       "      <td>0.551353</td>\n",
       "    </tr>\n",
       "    <tr>\n",
       "      <th>5</th>\n",
       "      <td>0.927253</td>\n",
       "      <td>0.722509</td>\n",
       "      <td>0.285979</td>\n",
       "      <td>0.645247</td>\n",
       "    </tr>\n",
       "  </tbody>\n",
       "</table>\n",
       "</div>\n",
       "<p>TibbleRowwise:  (n=6)"
      ],
      "text/plain": [
       "          x         y         z         m\n",
       "  <float64> <float64> <float64> <float64>\n",
       "0  0.025942  0.476775  0.499526  0.334081\n",
       "1  0.712456  0.042827  0.712920  0.489401\n",
       "2  0.247422  0.854404  0.729917  0.610581\n",
       "3  0.553192  0.506078  0.933888  0.664386\n",
       "4  0.083242  0.873225  0.697593  0.551353\n",
       "5  0.927253  0.722509  0.285979  0.645247\n",
       "[TibbleRowwise:  (n=6)]"
      ]
     },
     "execution_count": 3,
     "metadata": {},
     "output_type": "execute_result"
    }
   ],
   "source": [
    "df >> rowwise() >> mutate(m=mean(c_across(f[f.x:])))"
   ]
  },
  {
   "cell_type": "code",
   "execution_count": 4,
   "metadata": {
    "execution": {
     "iopub.execute_input": "2021-07-16T22:28:10.157870Z",
     "iopub.status.busy": "2021-07-16T22:28:10.157301Z",
     "iopub.status.idle": "2021-07-16T22:28:10.167496Z",
     "shell.execute_reply": "2021-07-16T22:28:10.167879Z"
    }
   },
   "outputs": [
    {
     "data": {
      "text/html": [
       "<div>\n",
       "<style scoped>\n",
       "    .dataframe tbody tr th:only-of-type {\n",
       "        vertical-align: middle;\n",
       "    }\n",
       "\n",
       "    .dataframe tbody tr th {\n",
       "        vertical-align: top;\n",
       "    }\n",
       "\n",
       "    .dataframe thead th {\n",
       "        text-align: right;\n",
       "    }\n",
       "</style>\n",
       "<table border=\"1\" class=\"dataframe\">\n",
       "  <thead>\n",
       "    <tr style=\"text-align: right;\">\n",
       "      <th></th>\n",
       "      <th>x</th>\n",
       "      <th>y</th>\n",
       "      <th>z</th>\n",
       "      <th>m</th>\n",
       "    </tr>\n",
       "  </thead>\n",
       "  <tbody>\n",
       "    <tr>\n",
       "      <th style=\"font-style: italic;\" ></th>\n",
       "      <td style=\"font-style: italic;\" >&lt;float64&gt;</td>\n",
       "      <td style=\"font-style: italic;\" >&lt;float64&gt;</td>\n",
       "      <td style=\"font-style: italic;\" >&lt;float64&gt;</td>\n",
       "      <td style=\"font-style: italic;\" >&lt;float64&gt;</td>\n",
       "    </tr>\n",
       "    <tr>\n",
       "      <th>0</th>\n",
       "      <td>0.025942</td>\n",
       "      <td>0.476775</td>\n",
       "      <td>0.499526</td>\n",
       "      <td>0.025942</td>\n",
       "    </tr>\n",
       "    <tr>\n",
       "      <th>1</th>\n",
       "      <td>0.712456</td>\n",
       "      <td>0.042827</td>\n",
       "      <td>0.712920</td>\n",
       "      <td>0.042827</td>\n",
       "    </tr>\n",
       "    <tr>\n",
       "      <th>2</th>\n",
       "      <td>0.247422</td>\n",
       "      <td>0.854404</td>\n",
       "      <td>0.729917</td>\n",
       "      <td>0.247422</td>\n",
       "    </tr>\n",
       "    <tr>\n",
       "      <th>3</th>\n",
       "      <td>0.553192</td>\n",
       "      <td>0.506078</td>\n",
       "      <td>0.933888</td>\n",
       "      <td>0.506078</td>\n",
       "    </tr>\n",
       "    <tr>\n",
       "      <th>4</th>\n",
       "      <td>0.083242</td>\n",
       "      <td>0.873225</td>\n",
       "      <td>0.697593</td>\n",
       "      <td>0.083242</td>\n",
       "    </tr>\n",
       "    <tr>\n",
       "      <th>5</th>\n",
       "      <td>0.927253</td>\n",
       "      <td>0.722509</td>\n",
       "      <td>0.285979</td>\n",
       "      <td>0.285979</td>\n",
       "    </tr>\n",
       "  </tbody>\n",
       "</table>\n",
       "</div>\n",
       "<p>TibbleRowwise:  (n=6)"
      ],
      "text/plain": [
       "          x         y         z         m\n",
       "  <float64> <float64> <float64> <float64>\n",
       "0  0.025942  0.476775  0.499526  0.025942\n",
       "1  0.712456  0.042827  0.712920  0.042827\n",
       "2  0.247422  0.854404  0.729917  0.247422\n",
       "3  0.553192  0.506078  0.933888  0.506078\n",
       "4  0.083242  0.873225  0.697593  0.083242\n",
       "5  0.927253  0.722509  0.285979  0.285979\n",
       "[TibbleRowwise:  (n=6)]"
      ]
     },
     "execution_count": 4,
     "metadata": {},
     "output_type": "execute_result"
    }
   ],
   "source": [
    "df >> rowwise() >> mutate(m=min(c_across([f.x, f.y, f.z]))) "
   ]
  },
  {
   "cell_type": "code",
   "execution_count": 5,
   "metadata": {
    "execution": {
     "iopub.execute_input": "2021-07-16T22:28:10.231704Z",
     "iopub.status.busy": "2021-07-16T22:28:10.230994Z",
     "iopub.status.idle": "2021-07-16T22:28:10.235604Z",
     "shell.execute_reply": "2021-07-16T22:28:10.234881Z"
    }
   },
   "outputs": [
    {
     "data": {
      "text/html": [
       "<div>\n",
       "<style scoped>\n",
       "    .dataframe tbody tr th:only-of-type {\n",
       "        vertical-align: middle;\n",
       "    }\n",
       "\n",
       "    .dataframe tbody tr th {\n",
       "        vertical-align: top;\n",
       "    }\n",
       "\n",
       "    .dataframe thead th {\n",
       "        text-align: right;\n",
       "    }\n",
       "</style>\n",
       "<table border=\"1\" class=\"dataframe\">\n",
       "  <thead>\n",
       "    <tr style=\"text-align: right;\">\n",
       "      <th></th>\n",
       "      <th>x</th>\n",
       "      <th>y</th>\n",
       "      <th>z</th>\n",
       "      <th>m</th>\n",
       "    </tr>\n",
       "  </thead>\n",
       "  <tbody>\n",
       "    <tr>\n",
       "      <th style=\"font-style: italic;\" ></th>\n",
       "      <td style=\"font-style: italic;\" >&lt;float64&gt;</td>\n",
       "      <td style=\"font-style: italic;\" >&lt;float64&gt;</td>\n",
       "      <td style=\"font-style: italic;\" >&lt;float64&gt;</td>\n",
       "      <td style=\"font-style: italic;\" >&lt;float64&gt;</td>\n",
       "    </tr>\n",
       "    <tr>\n",
       "      <th>0</th>\n",
       "      <td>0.025942</td>\n",
       "      <td>0.476775</td>\n",
       "      <td>0.499526</td>\n",
       "      <td>0.025942</td>\n",
       "    </tr>\n",
       "    <tr>\n",
       "      <th>1</th>\n",
       "      <td>0.712456</td>\n",
       "      <td>0.042827</td>\n",
       "      <td>0.712920</td>\n",
       "      <td>0.042827</td>\n",
       "    </tr>\n",
       "    <tr>\n",
       "      <th>2</th>\n",
       "      <td>0.247422</td>\n",
       "      <td>0.854404</td>\n",
       "      <td>0.729917</td>\n",
       "      <td>0.247422</td>\n",
       "    </tr>\n",
       "    <tr>\n",
       "      <th>3</th>\n",
       "      <td>0.553192</td>\n",
       "      <td>0.506078</td>\n",
       "      <td>0.933888</td>\n",
       "      <td>0.506078</td>\n",
       "    </tr>\n",
       "    <tr>\n",
       "      <th>4</th>\n",
       "      <td>0.083242</td>\n",
       "      <td>0.873225</td>\n",
       "      <td>0.697593</td>\n",
       "      <td>0.083242</td>\n",
       "    </tr>\n",
       "    <tr>\n",
       "      <th>5</th>\n",
       "      <td>0.927253</td>\n",
       "      <td>0.722509</td>\n",
       "      <td>0.285979</td>\n",
       "      <td>0.285979</td>\n",
       "    </tr>\n",
       "  </tbody>\n",
       "</table>\n",
       "</div>\n",
       "<p>TibbleRowwise:  (n=6)"
      ],
      "text/plain": [
       "          x         y         z         m\n",
       "  <float64> <float64> <float64> <float64>\n",
       "0  0.025942  0.476775  0.499526  0.025942\n",
       "1  0.712456  0.042827  0.712920  0.042827\n",
       "2  0.247422  0.854404  0.729917  0.247422\n",
       "3  0.553192  0.506078  0.933888  0.506078\n",
       "4  0.083242  0.873225  0.697593  0.083242\n",
       "5  0.927253  0.722509  0.285979  0.285979\n",
       "[TibbleRowwise:  (n=6)]"
      ]
     },
     "execution_count": 5,
     "metadata": {},
     "output_type": "execute_result"
    }
   ],
   "source": [
    "df >> rowwise() >> mutate(m=min(c_across(f[f.x:]))) "
   ]
  },
  {
   "cell_type": "code",
   "execution_count": 6,
   "metadata": {
    "execution": {
     "iopub.execute_input": "2021-07-16T22:28:10.245426Z",
     "iopub.status.busy": "2021-07-16T22:28:10.244596Z",
     "iopub.status.idle": "2021-07-16T22:28:10.286588Z",
     "shell.execute_reply": "2021-07-16T22:28:10.287010Z"
    }
   },
   "outputs": [
    {
     "data": {
      "text/html": [
       "<div>\n",
       "<style scoped>\n",
       "    .dataframe tbody tr th:only-of-type {\n",
       "        vertical-align: middle;\n",
       "    }\n",
       "\n",
       "    .dataframe tbody tr th {\n",
       "        vertical-align: top;\n",
       "    }\n",
       "\n",
       "    .dataframe thead th {\n",
       "        text-align: right;\n",
       "    }\n",
       "</style>\n",
       "<table border=\"1\" class=\"dataframe\">\n",
       "  <thead>\n",
       "    <tr style=\"text-align: right;\">\n",
       "      <th></th>\n",
       "      <th>x</th>\n",
       "      <th>y</th>\n",
       "      <th>z</th>\n",
       "      <th>m</th>\n",
       "    </tr>\n",
       "  </thead>\n",
       "  <tbody>\n",
       "    <tr>\n",
       "      <th style=\"font-style: italic;\" ></th>\n",
       "      <td style=\"font-style: italic;\" >&lt;float64&gt;</td>\n",
       "      <td style=\"font-style: italic;\" >&lt;float64&gt;</td>\n",
       "      <td style=\"font-style: italic;\" >&lt;float64&gt;</td>\n",
       "      <td style=\"font-style: italic;\" >&lt;float64&gt;</td>\n",
       "    </tr>\n",
       "    <tr>\n",
       "      <th>0</th>\n",
       "      <td>0.025942</td>\n",
       "      <td>0.476775</td>\n",
       "      <td>0.499526</td>\n",
       "      <td>0.025942</td>\n",
       "    </tr>\n",
       "    <tr>\n",
       "      <th>1</th>\n",
       "      <td>0.712456</td>\n",
       "      <td>0.042827</td>\n",
       "      <td>0.712920</td>\n",
       "      <td>0.042827</td>\n",
       "    </tr>\n",
       "    <tr>\n",
       "      <th>2</th>\n",
       "      <td>0.247422</td>\n",
       "      <td>0.854404</td>\n",
       "      <td>0.729917</td>\n",
       "      <td>0.247422</td>\n",
       "    </tr>\n",
       "    <tr>\n",
       "      <th>3</th>\n",
       "      <td>0.553192</td>\n",
       "      <td>0.506078</td>\n",
       "      <td>0.933888</td>\n",
       "      <td>0.506078</td>\n",
       "    </tr>\n",
       "    <tr>\n",
       "      <th>4</th>\n",
       "      <td>0.083242</td>\n",
       "      <td>0.873225</td>\n",
       "      <td>0.697593</td>\n",
       "      <td>0.083242</td>\n",
       "    </tr>\n",
       "    <tr>\n",
       "      <th>5</th>\n",
       "      <td>0.927253</td>\n",
       "      <td>0.722509</td>\n",
       "      <td>0.285979</td>\n",
       "      <td>0.285979</td>\n",
       "    </tr>\n",
       "  </tbody>\n",
       "</table>\n",
       "</div>\n"
      ],
      "text/plain": [
       "          x         y         z         m\n",
       "  <float64> <float64> <float64> <float64>\n",
       "0  0.025942  0.476775  0.499526  0.025942\n",
       "1  0.712456  0.042827  0.712920  0.042827\n",
       "2  0.247422  0.854404  0.729917  0.247422\n",
       "3  0.553192  0.506078  0.933888  0.506078\n",
       "4  0.083242  0.873225  0.697593  0.083242\n",
       "5  0.927253  0.722509  0.285979  0.285979"
      ]
     },
     "execution_count": 6,
     "metadata": {},
     "output_type": "execute_result"
    }
   ],
   "source": [
    "df >> mutate(m = pmin(f.x, f.y, f.z))"
   ]
  },
  {
   "cell_type": "code",
   "execution_count": 7,
   "metadata": {
    "execution": {
     "iopub.execute_input": "2021-07-16T22:28:10.296858Z",
     "iopub.status.busy": "2021-07-16T22:28:10.296263Z",
     "iopub.status.idle": "2021-07-16T22:28:10.347572Z",
     "shell.execute_reply": "2021-07-16T22:28:10.348035Z"
    }
   },
   "outputs": [
    {
     "data": {
      "text/html": [
       "<div>\n",
       "<style scoped>\n",
       "    .dataframe tbody tr th:only-of-type {\n",
       "        vertical-align: middle;\n",
       "    }\n",
       "\n",
       "    .dataframe tbody tr th {\n",
       "        vertical-align: top;\n",
       "    }\n",
       "\n",
       "    .dataframe thead th {\n",
       "        text-align: right;\n",
       "    }\n",
       "</style>\n",
       "<table border=\"1\" class=\"dataframe\">\n",
       "  <thead>\n",
       "    <tr style=\"text-align: right;\">\n",
       "      <th></th>\n",
       "      <th>sim</th>\n",
       "      <th>n</th>\n",
       "      <th>mean</th>\n",
       "      <th>sd</th>\n",
       "      <th>z</th>\n",
       "    </tr>\n",
       "  </thead>\n",
       "  <tbody>\n",
       "    <tr>\n",
       "      <th style=\"font-style: italic;\" ></th>\n",
       "      <td style=\"font-style: italic;\" >&lt;int64&gt;</td>\n",
       "      <td style=\"font-style: italic;\" >&lt;int64&gt;</td>\n",
       "      <td style=\"font-style: italic;\" >&lt;int64&gt;</td>\n",
       "      <td style=\"font-style: italic;\" >&lt;int64&gt;</td>\n",
       "      <td style=\"font-style: italic;\" >&lt;object&gt;</td>\n",
       "    </tr>\n",
       "    <tr>\n",
       "      <th>0</th>\n",
       "      <td>1</td>\n",
       "      <td>1</td>\n",
       "      <td>1</td>\n",
       "      <td>1</td>\n",
       "      <td>[-1.3063907823216363]</td>\n",
       "    </tr>\n",
       "    <tr>\n",
       "      <th>1</th>\n",
       "      <td>2</td>\n",
       "      <td>2</td>\n",
       "      <td>2</td>\n",
       "      <td>4</td>\n",
       "      <td>[3.7073727164434356, 7.419626474254578]</td>\n",
       "    </tr>\n",
       "    <tr>\n",
       "      <th>2</th>\n",
       "      <td>3</td>\n",
       "      <td>3</td>\n",
       "      <td>1</td>\n",
       "      <td>2</td>\n",
       "      <td>[5.4103500819213055, 1.2744686893514379, 0.254...</td>\n",
       "    </tr>\n",
       "  </tbody>\n",
       "</table>\n",
       "</div>\n",
       "<p>TibbleRowwise: sim (n=3)"
      ],
      "text/plain": [
       "      sim       n    mean      sd  \\\n",
       "  <int64> <int64> <int64> <int64>   \n",
       "0       1       1       1       1   \n",
       "1       2       2       2       4   \n",
       "2       3       3       1       2   \n",
       "\n",
       "                                                   z  \n",
       "                                            <object>  \n",
       "0                              [-1.3063907823216363]  \n",
       "1            [3.7073727164434356, 7.419626474254578]  \n",
       "2  [5.4103500819213055, 1.2744686893514379, 0.254...  \n",
       "[TibbleRowwise: sim (n=3)]"
      ]
     },
     "execution_count": 7,
     "metadata": {},
     "output_type": "execute_result"
    }
   ],
   "source": [
    "params = tibble(\n",
    "    sim=[1, 2, 3],\n",
    "    n=[1, 2, 3],\n",
    "    mean=[1, 2, 1],\n",
    "    sd=[1, 4, 2]\n",
    ")\n",
    "\n",
    "params >> rowwise(f.sim) >> mutate(z=rnorm(f.n, f.mean, f.sd)) "
   ]
  },
  {
   "cell_type": "code",
   "execution_count": null,
   "metadata": {},
   "outputs": [],
   "source": []
  }
 ],
 "metadata": {
  "kernelspec": {
   "display_name": "Python 3.9.5 ('base')",
   "language": "python",
   "name": "python3"
  },
  "language_info": {
   "codemirror_mode": {
    "name": "ipython",
    "version": 3
   },
   "file_extension": ".py",
   "mimetype": "text/x-python",
   "name": "python",
   "nbconvert_exporter": "python",
   "pygments_lexer": "ipython3",
   "version": "3.9.5"
  },
  "vscode": {
   "interpreter": {
    "hash": "9ed5c94d10bf621c6841991b7e31ffd0f3c8de8ec4167710459737a50edc58e4"
   }
  }
 },
 "nbformat": 4,
 "nbformat_minor": 4
}
